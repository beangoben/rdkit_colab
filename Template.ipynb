{
 "cells": [
  {
   "cell_type": "markdown",
   "metadata": {
    "ExecuteTime": {
     "end_time": "2020-04-07T13:00:31.536172Z",
     "start_time": "2020-04-07T13:00:31.532636Z"
    }
   },
   "source": [
    "Download colab_utils and import"
   ]
  },
  {
   "cell_type": "code",
   "execution_count": 3,
   "metadata": {
    "ExecuteTime": {
     "end_time": "2020-04-07T12:59:10.855114Z",
     "start_time": "2020-04-07T12:59:10.540431Z"
    }
   },
   "outputs": [
    {
     "name": "stdout",
     "output_type": "stream",
     "text": [
      "--2020-04-07 08:59:10--  https://raw.githubusercontent.com/beangoben/rdkit_colab/master/colab_utils.py\n",
      "Resolving raw.githubusercontent.com (raw.githubusercontent.com)... 151.101.192.133, 151.101.128.133, 151.101.64.133, ...\n",
      "Connecting to raw.githubusercontent.com (raw.githubusercontent.com)|151.101.192.133|:443... connected.\n",
      "HTTP request sent, awaiting response... 200 OK\n",
      "Length: 2797 (2.7K) [text/plain]\n",
      "Saving to: ‘colab_utils.py’\n",
      "\n",
      "colab_utils.py      100%[===================>]   2.73K  --.-KB/s    in 0.002s  \n",
      "\n",
      "2020-04-07 08:59:10 (1.34 MB/s) - ‘colab_utils.py’ saved [2797/2797]\n",
      "\n"
     ]
    }
   ],
   "source": [
    "!wget https://raw.githubusercontent.com/beangoben/rdkit_colab/master/colab_utils.py -O colab_utils.py\n",
    "import colab_utils"
   ]
  },
  {
   "cell_type": "markdown",
   "metadata": {},
   "source": [
    "Clone github repo, install stuff"
   ]
  },
  {
   "cell_type": "code",
   "execution_count": null,
   "metadata": {},
   "outputs": [],
   "source": [
    "github_repo = 'git@github.com:beangoben/rdkit_colab.git'\n",
    "# If working in a private colab repo, \n",
    "# save a id_rsa file in gdrive or dropbox, etc. and run copy_ssh_key\n",
    "# colab_utils.copy_ssh_key(id_rsa_url)\n",
    "colab_utils.clone_repo(github_repo)\n",
    "colab_utils.install_rdkit()"
   ]
  }
 ],
 "metadata": {
  "kernelspec": {
   "display_name": "Python 3",
   "language": "python",
   "name": "python3"
  },
  "language_info": {
   "codemirror_mode": {
    "name": "ipython",
    "version": 3
   },
   "file_extension": ".py",
   "mimetype": "text/x-python",
   "name": "python",
   "nbconvert_exporter": "python",
   "pygments_lexer": "ipython3",
   "version": "3.7.6"
  },
  "toc": {
   "base_numbering": 1,
   "nav_menu": {},
   "number_sections": true,
   "sideBar": true,
   "skip_h1_title": false,
   "title_cell": "Table of Contents",
   "title_sidebar": "Contents",
   "toc_cell": false,
   "toc_position": {},
   "toc_section_display": true,
   "toc_window_display": false
  }
 },
 "nbformat": 4,
 "nbformat_minor": 4
}
