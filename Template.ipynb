{
 "cells": [
  {
   "cell_type": "markdown",
   "metadata": {
    "ExecuteTime": {
     "end_time": "2020-04-07T13:00:31.536172Z",
     "start_time": "2020-04-07T13:00:31.532636Z"
    }
   },
   "source": [
    "Download colab_utils and import\n",
    "\n",
    "\n",
    "\n",
    "<a href=\"https://colab.research.google.com/github/beangoben/rdkit_colab/blob/master/Template.ipynb\" target=\"_parent\"><img src=\"https://colab.research.google.com/assets/colab-badge.svg\" alt=\"Open In Colab\"/></a>\n"
   ]
  },
  {
   "cell_type": "code",
   "execution_count": null,
   "metadata": {
    "ExecuteTime": {
     "end_time": "2020-04-07T12:59:10.855114Z",
     "start_time": "2020-04-07T12:59:10.540431Z"
    },
    "scrolled": true
   },
   "outputs": [],
   "source": [
    "!wget https://raw.githubusercontent.com/beangoben/rdkit_colab/master/colab_utils.py -O colab_utils.py\n",
    "import colab_utils"
   ]
  },
  {
   "cell_type": "markdown",
   "metadata": {},
   "source": [
    "Clone github repo, install stuff"
   ]
  },
  {
   "cell_type": "code",
   "execution_count": null,
   "metadata": {},
   "outputs": [],
   "source": [
    "github_repo = 'git@github.com:beangoben/rdkit_colab.git'\n",
    "# If working in a private colab repo, \n",
    "# save a id_rsa file in gdrive or dropbox, etc. and run copy_ssh_key\n",
    "# colab_utils.copy_ssh_key(id_rsa_url)\n",
    "colab_utils.clone_repo(github_repo)\n",
    "colab_utils.pip_install_from_conda_yaml()\n",
    "colab_utils.install_rdkit()"
   ]
  },
  {
   "cell_type": "markdown",
   "metadata": {},
   "source": [
    "# Import modules\n",
    "If first time after installing rdkit, you need to restart and update sys.path"
   ]
  },
  {
   "cell_type": "code",
   "execution_count": 1,
   "metadata": {
    "ExecuteTime": {
     "end_time": "2020-04-16T07:11:11.794473Z",
     "start_time": "2020-04-16T07:11:11.735773Z"
    }
   },
   "outputs": [
    {
     "ename": "NameError",
     "evalue": "name 'colab_utils' is not defined",
     "output_type": "error",
     "traceback": [
      "\u001b[0;31m---------------------------------------------------------------------------\u001b[0m",
      "\u001b[0;31mNameError\u001b[0m                                 Traceback (most recent call last)",
      "\u001b[0;32m<ipython-input-1-ca5277b928ec>\u001b[0m in \u001b[0;36m<module>\u001b[0;34m\u001b[0m\n\u001b[0;32m----> 1\u001b[0;31m \u001b[0mcolab_utils\u001b[0m\u001b[0;34m.\u001b[0m\u001b[0madd_conda_dir_to_python_path\u001b[0m\u001b[0;34m(\u001b[0m\u001b[0;34m)\u001b[0m\u001b[0;34m\u001b[0m\u001b[0;34m\u001b[0m\u001b[0m\n\u001b[0m",
      "\u001b[0;31mNameError\u001b[0m: name 'colab_utils' is not defined"
     ]
    }
   ],
   "source": [
    "colab_utils.add_conda_dir_to_python_path()"
   ]
  },
  {
   "cell_type": "code",
   "execution_count": null,
   "metadata": {},
   "outputs": [],
   "source": [
    "from collections import OrderedDict\n",
    "import tqdm.auto as tqdm\n",
    "\n",
    "import numpy as np\n",
    "import scipy as sp\n",
    "import pandas as pd\n",
    "import matplotlib.pyplot as plt\n",
    "import seaborn as sns\n",
    "\n",
    "import rdkit\n",
    "import rdkit.Chem\n",
    "import rdkit.Chem.AllChem as Chem\n",
    "\n",
    "import tensorflow as tf\n",
    "\n",
    "print(f'rdkit  : {rdkit.__version__}')\n",
    "print(f'tf     : {tf.__version__}')\n",
    "colab_utils.matploltib_settings()"
   ]
  }
 ],
 "metadata": {
  "kernelspec": {
   "display_name": "Python 3",
   "language": "python",
   "name": "python3"
  },
  "language_info": {
   "codemirror_mode": {
    "name": "ipython",
    "version": 3
   },
   "file_extension": ".py",
   "mimetype": "text/x-python",
   "name": "python",
   "nbconvert_exporter": "python",
   "pygments_lexer": "ipython3",
   "version": "3.7.4"
  },
  "toc": {
   "base_numbering": 1,
   "nav_menu": {},
   "number_sections": true,
   "sideBar": true,
   "skip_h1_title": false,
   "title_cell": "Table of Contents",
   "title_sidebar": "Contents",
   "toc_cell": false,
   "toc_position": {},
   "toc_section_display": true,
   "toc_window_display": false
  }
 },
 "nbformat": 4,
 "nbformat_minor": 4
}
